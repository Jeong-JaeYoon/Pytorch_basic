{
 "cells": [
  {
   "cell_type": "markdown",
   "metadata": {},
   "source": [
    "# Dropout과 Dead Relu는 어떤 차이점이 있을까?"
   ]
  },
  {
   "cell_type": "code",
   "execution_count": 2,
   "metadata": {},
   "outputs": [],
   "source": [
    "import torch\n",
    "import torch.nn as nn\n",
    "import torch.optim as optim\n",
    "\n",
    "import numpy as np\n",
    "import copy\n",
    "\n",
    "np.set_printoptions(threshold=np.inf, linewidth=np.inf)"
   ]
  },
  {
   "cell_type": "code",
   "execution_count": 27,
   "metadata": {},
   "outputs": [],
   "source": [
    "relu_linear1 = nn.Linear(5, 5, bias=True)\n",
    "relu_linear2 = nn.Linear(5, 5, bias=True)\n",
    "relu_linear3 = nn.Linear(5, 2, bias=True)\n",
    "\n",
    "relu_drop_linear1 = copy.deepcopy(relu_linear1)\n",
    "relu_drop_linear2 = copy.deepcopy(relu_linear2)\n",
    "relu_drop_linear3 = copy.deepcopy(relu_linear3)\n",
    "\n",
    "drop_linear1 = copy.deepcopy(relu_linear1)\n",
    "drop_linear2 = copy.deepcopy(relu_linear2)\n",
    "drop_linear3 = copy.deepcopy(relu_linear3)\n",
    "\n",
    "class Relu_model(nn.Module):\n",
    "    def __init__(self):\n",
    "        super(self, Relu_model).__init__()\n",
    "        self.fc1 = relu_linear1\n",
    "        self.fc2 = relu_linear2\n",
    "        self.fc3 = relu_linear3\n",
    "        self.relu = nn.ReLU()\n",
    "        \n",
    "    def forward(self, x):\n",
    "        out = self.fc1(x)\n",
    "        out = self.relu(out)\n",
    "        out = self.fc2(x)\n",
    "        out = self.relu(out)\n",
    "        out = self.fc3(x)\n",
    "        \n",
    "        return out\n",
    "        \n",
    "class Relu_Dropout_model(nn.Module):\n",
    "    def __init__(self):\n",
    "        super(self, Relu_Dropout_model).__init__()\n",
    "        self.fc1 = relu_drop_linear1\n",
    "        self.fc2 = relu_drop_linear2\n",
    "        self.fc3 = relu_drop_linear3\n",
    "        self.relu = nn.ReLU()\n",
    "        self.dropout = nn.Dropout(0.5)\n",
    "        \n",
    "    def forward(self, x):\n",
    "        out = self.fc1(x)\n",
    "        out = self.relu(out)\n",
    "        out = self.dropout(out)\n",
    "        out = self.fc2(x)\n",
    "        out = self.relu(out)\n",
    "        out = self.dropout(out)\n",
    "        out = self.fc3(x)\n",
    "        \n",
    "        return out\n",
    "    \n",
    "class Dropout_model(nn.Module):\n",
    "    def __init__(self):\n",
    "        super(self, Dropout_model).__init__()\n",
    "        self.fc1 = drop_linear1\n",
    "        self.fc2 = drop_linear2\n",
    "        self.fc3 = drop_linear3\n",
    "        self.dropout = nn.Dropout(0.5)\n",
    "        \n",
    "    def forward(self, x):\n",
    "        out = self.fc1(x)\n",
    "        out = self.dropout(out)\n",
    "        out = self.fc2(x)\n",
    "        out = self.dropout(out)\n",
    "        out = self.fc3(x)\n",
    "        \n",
    "        return out"
   ]
  },
  {
   "cell_type": "code",
   "execution_count": 21,
   "metadata": {},
   "outputs": [
    {
     "name": "stdout",
     "output_type": "stream",
     "text": [
      "tensor([[1., 1., 1., 1., 1.],\n",
      "        [1., 1., 1., 1., 1.],\n",
      "        [1., 1., 1., 1., 1.],\n",
      "        [1., 1., 1., 1., 1.],\n",
      "        [1., 1., 1., 1., 1.]])\n",
      "torch.Size([5, 5])\n"
     ]
    }
   ],
   "source": []
  },
  {
   "cell_type": "code",
   "execution_count": 25,
   "metadata": {},
   "outputs": [
    {
     "name": "stdout",
     "output_type": "stream",
     "text": [
      "tensor([[ 0.6261,  0.5288,  0.2258, -0.3936,  1.7642],\n",
      "        [ 0.6261,  0.5288,  0.2258, -0.3936,  1.7642],\n",
      "        [ 0.6261,  0.5288,  0.2258, -0.3936,  1.7642],\n",
      "        [ 0.6261,  0.5288,  0.2258, -0.3936,  1.7642],\n",
      "        [ 0.6261,  0.5288,  0.2258, -0.3936,  1.7642]],\n",
      "       grad_fn=<AddmmBackward>)\n"
     ]
    }
   ],
   "source": []
  },
  {
   "cell_type": "code",
   "execution_count": 26,
   "metadata": {},
   "outputs": [
    {
     "data": {
      "text/plain": [
       "Parameter containing:\n",
       "tensor([[ 0.3201, -0.0114,  0.3860, -0.4451,  0.3174],\n",
       "        [ 0.1407,  0.3732, -0.0265, -0.3366,  0.4022],\n",
       "        [ 0.2693, -0.1660, -0.1387, -0.0033, -0.1379],\n",
       "        [-0.3087, -0.4380, -0.3057,  0.4064, -0.0942],\n",
       "        [ 0.4112,  0.3114,  0.3191,  0.0384,  0.2642]], requires_grad=True)"
      ]
     },
     "execution_count": 26,
     "metadata": {},
     "output_type": "execute_result"
    }
   ],
   "source": []
  },
  {
   "cell_type": "code",
   "execution_count": null,
   "metadata": {},
   "outputs": [],
   "source": []
  }
 ],
 "metadata": {
  "interpreter": {
   "hash": "5777bc8a7577125a1c00ed1671130ea029cae56addc813f4c39a4f837e26f28b"
  },
  "kernelspec": {
   "display_name": "Python 3.9.6 64-bit ('main': conda)",
   "language": "python",
   "name": "python3"
  },
  "language_info": {
   "codemirror_mode": {
    "name": "ipython",
    "version": 3
   },
   "file_extension": ".py",
   "mimetype": "text/x-python",
   "name": "python",
   "nbconvert_exporter": "python",
   "pygments_lexer": "ipython3",
   "version": "3.9.6"
  },
  "orig_nbformat": 4
 },
 "nbformat": 4,
 "nbformat_minor": 2
}
