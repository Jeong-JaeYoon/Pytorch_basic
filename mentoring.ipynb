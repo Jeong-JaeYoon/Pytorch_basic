{
 "cells": [
  {
   "cell_type": "markdown",
   "metadata": {},
   "source": [
    "# batch normalization이 미치는 영향"
   ]
  },
  {
   "cell_type": "code",
   "execution_count": 1,
   "metadata": {},
   "outputs": [],
   "source": [
    "import torch\n",
    "import torch.nn as nn\n",
    "import torch.optim as optim\n",
    "\n",
    "from torchvision import datasets\n",
    "from torchvision import transforms\n",
    "from torch.utils.data import DataLoader\n",
    "\n",
    "import matplotlib.pyplot as plt\n",
    "import numpy as np\n",
    "import copy\n",
    "\n",
    "#np.set_printoptions(threshold=np.inf, linewidth=np.inf)"
   ]
  },
  {
   "cell_type": "code",
   "execution_count": 2,
   "metadata": {},
   "outputs": [
    {
     "name": "stderr",
     "output_type": "stream",
     "text": [
      "C:\\Users\\DMQA\\anaconda3\\envs\\main\\lib\\site-packages\\torchvision\\datasets\\mnist.py:498: UserWarning: The given NumPy array is not writeable, and PyTorch does not support non-writeable tensors. This means you can write to the underlying (supposedly non-writeable) NumPy array using the tensor. You may want to copy the array to protect its data or make it writeable before converting it to a tensor. This type of warning will be suppressed for the rest of this program. (Triggered internally at  ..\\torch\\csrc\\utils\\tensor_numpy.cpp:180.)\n",
      "  return torch.from_numpy(parsed.astype(m[2], copy=False)).view(*s)\n"
     ]
    }
   ],
   "source": [
    "torch.manual_seed(1)\n",
    "\n",
    "mnist_train = datasets.MNIST(root='MNIST_data/', train=True, download=True, transform=transforms.ToTensor())\n",
    "mnist_test = datasets.MNIST(root='MNIST_data/', train=False, download=True, transform=transforms.ToTensor())\n",
    "\n",
    "train_loader = DataLoader(dataset=mnist_train, batch_size=32, shuffle=False, drop_last=True)\n",
    "train_test = DataLoader(dataset=mnist_test, batch_size=32, shuffle=False, drop_last=True)"
   ]
  },
  {
   "cell_type": "code",
   "execution_count": 6,
   "metadata": {},
   "outputs": [],
   "source": [
    "linear1 = nn.Linear(784,32,bias=True)\n",
    "linear2 = nn.Linear(32,32,bias=True)\n",
    "linear3 = nn.Linear(32,32,bias=True)\n",
    "\n",
    "bn_linear1 = copy.deepcopy(linear1)\n",
    "bn_linear2 = copy.deepcopy(linear2)\n",
    "bn_linear3 = copy.deepcopy(linear3)\n",
    "\n",
    "class basic_model(nn.Module):\n",
    "    def __init__(self):\n",
    "        super(basic_model, self).__init__()\n",
    "        self.fc1 = linear1\n",
    "        self.fc2 = linear2\n",
    "        self.fc3 = linear3\n",
    "        self.relu = nn.ReLU()\n",
    "\n",
    "    def forward(self, x):\n",
    "        out = self.fc1(x)\n",
    "        #print(out)\n",
    "        out = self.relu(out)\n",
    "        #print(out)\n",
    "        out = self.fc2(out)\n",
    "        out = self.relu(out)\n",
    "        out = self.fc3(out)\n",
    "        return out\n",
    "\n",
    "class batchnorm_model(nn.Module):\n",
    "    def __init__(self):\n",
    "        super(batchnorm_model,self).__init__()\n",
    "        self.fc1 = bn_linear1\n",
    "        self.fc2 = bn_linear2 \n",
    "        self.fc3 = bn_linear3\n",
    "        self.relu = nn.ReLU()\n",
    "        self.batch1 = nn.BatchNorm1d(32)\n",
    "        self.batch2 = nn.BatchNorm1d(32)\n",
    "    \n",
    "    def forward(self, x):\n",
    "        out = self.fc1(x)\n",
    "        #print(out)\n",
    "        out = self.batch1(out)\n",
    "        #print(out)\n",
    "        out = self.relu(out)\n",
    "        #print(out)\n",
    "        out = self.fc2(out)\n",
    "        out = self.batch2(out)\n",
    "        out = self.relu(out)\n",
    "        out = self.fc3(out)\n",
    "        return out"
   ]
  },
  {
   "cell_type": "code",
   "execution_count": 4,
   "metadata": {},
   "outputs": [
    {
     "name": "stdout",
     "output_type": "stream",
     "text": [
      "tensor([[-0.0670, -0.0555, -0.1320,  ..., -0.2561,  0.4735,  0.2064],\n",
      "        [ 0.1682, -0.0104, -0.3163,  ...,  0.0014,  0.3961, -0.0819],\n",
      "        [-0.0427, -0.0915, -0.0578,  ..., -0.1353,  0.2736, -0.0332],\n",
      "        ...,\n",
      "        [-0.1127,  0.1074, -0.0797,  ..., -0.0825,  0.2056,  0.1114],\n",
      "        [-0.1161,  0.2110,  0.1304,  ..., -0.1562,  0.2155,  0.3483],\n",
      "        [-0.2512,  0.1737, -0.3614,  ...,  0.1445,  0.3043, -0.0791]],\n",
      "       grad_fn=<AddmmBackward>)\n",
      "tensor([[0.0000, 0.0000, 0.0000,  ..., 0.0000, 0.4735, 0.2064],\n",
      "        [0.1682, 0.0000, 0.0000,  ..., 0.0014, 0.3961, 0.0000],\n",
      "        [0.0000, 0.0000, 0.0000,  ..., 0.0000, 0.2736, 0.0000],\n",
      "        ...,\n",
      "        [0.0000, 0.1074, 0.0000,  ..., 0.0000, 0.2056, 0.1114],\n",
      "        [0.0000, 0.2110, 0.1304,  ..., 0.0000, 0.2155, 0.3483],\n",
      "        [0.0000, 0.1737, 0.0000,  ..., 0.1445, 0.3043, 0.0000]],\n",
      "       grad_fn=<ReluBackward0>)\n"
     ]
    }
   ],
   "source": [
    "base_model = basic_model()\n",
    "\n",
    "for epoch in range(1):\n",
    "    for X,Y in train_loader:\n",
    "        X = X.view(-1, 28*28)\n",
    "        Y = Y\n",
    "\n",
    "        base_predict = base_model(X)\n",
    "        break"
   ]
  },
  {
   "cell_type": "code",
   "execution_count": 5,
   "metadata": {},
   "outputs": [
    {
     "name": "stdout",
     "output_type": "stream",
     "text": [
      "tensor([[-0.0670, -0.0555, -0.1320,  ..., -0.2561,  0.4735,  0.2064],\n",
      "        [ 0.1682, -0.0104, -0.3163,  ...,  0.0014,  0.3961, -0.0819],\n",
      "        [-0.0427, -0.0915, -0.0578,  ..., -0.1353,  0.2736, -0.0332],\n",
      "        ...,\n",
      "        [-0.1127,  0.1074, -0.0797,  ..., -0.0825,  0.2056,  0.1114],\n",
      "        [-0.1161,  0.2110,  0.1304,  ..., -0.1562,  0.2155,  0.3483],\n",
      "        [-0.2512,  0.1737, -0.3614,  ...,  0.1445,  0.3043, -0.0791]],\n",
      "       grad_fn=<AddmmBackward>)\n",
      "tensor([[ 0.1685, -0.8580, -0.4417,  ..., -1.1178,  0.5969,  0.8132],\n",
      "        [ 2.5056, -0.5298, -1.9844,  ...,  0.6609,  0.1511, -1.4087],\n",
      "        [ 0.4094, -1.1212,  0.1799,  ..., -0.2836, -0.5552, -1.0334],\n",
      "        ...,\n",
      "        [-0.2856,  0.3293, -0.0037,  ...,  0.0814, -0.9466,  0.0808],\n",
      "        [-0.3195,  1.0852,  1.7550,  ..., -0.4279, -0.8899,  1.9069],\n",
      "        [-1.6618,  0.8131, -2.3615,  ...,  1.6497, -0.3779, -1.3873]],\n",
      "       grad_fn=<NativeBatchNormBackward>)\n",
      "tensor([[0.1685, 0.0000, 0.0000,  ..., 0.0000, 0.5969, 0.8132],\n",
      "        [2.5056, 0.0000, 0.0000,  ..., 0.6609, 0.1511, 0.0000],\n",
      "        [0.4094, 0.0000, 0.1799,  ..., 0.0000, 0.0000, 0.0000],\n",
      "        ...,\n",
      "        [0.0000, 0.3293, 0.0000,  ..., 0.0814, 0.0000, 0.0808],\n",
      "        [0.0000, 1.0852, 1.7550,  ..., 0.0000, 0.0000, 1.9069],\n",
      "        [0.0000, 0.8131, 0.0000,  ..., 1.6497, 0.0000, 0.0000]],\n",
      "       grad_fn=<ReluBackward0>)\n"
     ]
    }
   ],
   "source": [
    "bn_model = batchnorm_model()\n",
    "\n",
    "for epoch in range(1):\n",
    "    for X,Y in train_loader:\n",
    "        X = X.view(-1, 28*28)\n",
    "        Y = Y\n",
    "\n",
    "        bn_model_predict = bn_model(X)\n",
    "        break"
   ]
  },
  {
   "cell_type": "code",
   "execution_count": 16,
   "metadata": {},
   "outputs": [
    {
     "name": "stdout",
     "output_type": "stream",
     "text": [
      "tensor([[ 0.2043,  0.1692, -0.2637,  ...,  0.0716, -0.0338, -0.1105],\n",
      "        [ 0.1196, -0.0432, -0.3785,  ..., -0.1595, -0.2196, -0.1844],\n",
      "        [ 0.2596,  0.1648, -0.2030,  ...,  0.0782,  0.0024,  0.2941],\n",
      "        ...,\n",
      "        [ 0.1171,  0.0896, -0.1296,  ..., -0.1014,  0.1282,  0.0279],\n",
      "        [ 0.2528,  0.3887, -0.0553,  ...,  0.1406, -0.1135, -0.1309],\n",
      "        [ 0.2885,  0.0699, -0.1020,  ..., -0.2190, -0.1932,  0.0370]],\n",
      "       grad_fn=<AddmmBackward>)\n",
      "tensor([[0.2043, 0.1692, 0.0000,  ..., 0.0716, 0.0000, 0.0000],\n",
      "        [0.1196, 0.0000, 0.0000,  ..., 0.0000, 0.0000, 0.0000],\n",
      "        [0.2596, 0.1648, 0.0000,  ..., 0.0782, 0.0024, 0.2941],\n",
      "        ...,\n",
      "        [0.1171, 0.0896, 0.0000,  ..., 0.0000, 0.1282, 0.0279],\n",
      "        [0.2528, 0.3887, 0.0000,  ..., 0.1406, 0.0000, 0.0000],\n",
      "        [0.2885, 0.0699, 0.0000,  ..., 0.0000, 0.0000, 0.0370]],\n",
      "       grad_fn=<ReluBackward0>)\n"
     ]
    }
   ],
   "source": [
    "base_model = basic_model()\n",
    "base_criterion = torch.nn.CrossEntropyLoss()\n",
    "base_optimizer = optim.Adam(base_model.parameters(), lr=0.001)\n",
    "\n",
    "base_train_loss = []\n",
    "base_test_loss = []\n",
    "\n",
    "for epoch in range(1):\n",
    "    base_model.train()\n",
    "\n",
    "    for X,Y in train_loader:\n",
    "        X = X.view(-1, 28*28)\n",
    "        Y = Y\n",
    "\n",
    "        base_optimizer.zero_grad()\n",
    "        base_predict = base_model(X)\n",
    "        base_loss = base_criterion(base_predict, Y)\n",
    "        base_loss.backward()\n",
    "        base_optimizer.step()\n",
    "\n",
    "        break\n",
    "        "
   ]
  },
  {
   "cell_type": "code",
   "execution_count": 17,
   "metadata": {},
   "outputs": [
    {
     "name": "stdout",
     "output_type": "stream",
     "text": [
      "tensor([[ 0.2043,  0.1692, -0.2637,  ...,  0.0716, -0.0338, -0.1105],\n",
      "        [ 0.1196, -0.0432, -0.3785,  ..., -0.1595, -0.2196, -0.1844],\n",
      "        [ 0.2596,  0.1648, -0.2030,  ...,  0.0782,  0.0024,  0.2941],\n",
      "        ...,\n",
      "        [ 0.1171,  0.0896, -0.1296,  ..., -0.1014,  0.1282,  0.0279],\n",
      "        [ 0.2528,  0.3887, -0.0553,  ...,  0.1406, -0.1135, -0.1309],\n",
      "        [ 0.2885,  0.0699, -0.1020,  ..., -0.2190, -0.1932,  0.0370]],\n",
      "       grad_fn=<AddmmBackward>)\n",
      "tensor([[ 0.0351,  0.1027, -0.8657,  ...,  1.3190,  0.1238, -0.6274],\n",
      "        [-0.4573, -1.2641, -1.7105,  ..., -0.6838, -1.3204, -1.2008],\n",
      "        [ 0.3563,  0.0739, -0.4195,  ...,  1.3762,  0.4047,  2.5129],\n",
      "        ...,\n",
      "        [-0.4716, -0.4099,  0.1206,  ..., -0.1801,  1.3831,  0.4468],\n",
      "        [ 0.3169,  1.5144,  0.6671,  ...,  1.9168, -0.4957, -0.7852],\n",
      "        [ 0.5246, -0.5361,  0.3234,  ..., -1.1995, -1.1154,  0.5180]],\n",
      "       grad_fn=<NativeBatchNormBackward>)\n",
      "tensor([[0.0351, 0.1027, 0.0000,  ..., 1.3190, 0.1238, 0.0000],\n",
      "        [0.0000, 0.0000, 0.0000,  ..., 0.0000, 0.0000, 0.0000],\n",
      "        [0.3563, 0.0739, 0.0000,  ..., 1.3762, 0.4047, 2.5129],\n",
      "        ...,\n",
      "        [0.0000, 0.0000, 0.1206,  ..., 0.0000, 1.3831, 0.4468],\n",
      "        [0.3169, 1.5144, 0.6671,  ..., 1.9168, 0.0000, 0.0000],\n",
      "        [0.5246, 0.0000, 0.3234,  ..., 0.0000, 0.0000, 0.5180]],\n",
      "       grad_fn=<ReluBackward0>)\n"
     ]
    }
   ],
   "source": [
    "\n",
    "bn_model = batchnorm_model()\n",
    "bn_criterion = torch.nn.CrossEntropyLoss()\n",
    "bn_optimizer = optim.Adam(bn_model.parameters(), lr=0.001)\n",
    "\n",
    "bn_train_loss = []\n",
    "bn_test_loss = []\n",
    "\n",
    "for epoch in range(1):\n",
    "    bn_model.train()\n",
    "\n",
    "    for X,Y in train_loader:\n",
    "        X = X.view(-1, 28*28)\n",
    "        Y = Y\n",
    "\n",
    "        bn_optimizer.zero_grad()\n",
    "        bn_predict = bn_model(X)\n",
    "        bn_loss = bn_criterion(bn_predict, Y)\n",
    "        bn_loss.backward()\n",
    "        bn_optimizer.step()\n",
    "\n",
    "        break"
   ]
  },
  {
   "cell_type": "code",
   "execution_count": 7,
   "metadata": {},
   "outputs": [
    {
     "name": "stdout",
     "output_type": "stream",
     "text": [
      "fc1.weight\n",
      "tensor([[ 0.0184, -0.0158, -0.0069,  ...,  0.0068, -0.0041,  0.0025],\n",
      "        [-0.0274, -0.0224, -0.0309,  ..., -0.0029,  0.0013, -0.0167],\n",
      "        [ 0.0282, -0.0095, -0.0340,  ..., -0.0141,  0.0056, -0.0335],\n",
      "        ...,\n",
      "        [ 0.0226,  0.0331,  0.0182,  ...,  0.0150,  0.0278, -0.0073],\n",
      "        [-0.0210,  0.0144,  0.0214,  ..., -0.0308, -0.0335,  0.0085],\n",
      "        [ 0.0219,  0.0195, -0.0009,  ...,  0.0191,  0.0218, -0.0320]])\n",
      "fc1.bias\n",
      "tensor([-0.0307, -0.0331, -0.0263, -0.0178, -0.0344,  0.0138,  0.0016, -0.0208,\n",
      "         0.0306, -0.0286,  0.0310,  0.0326,  0.0169,  0.0296,  0.0092, -0.0179,\n",
      "         0.0081,  0.0100, -0.0235, -0.0033,  0.0248,  0.0040, -0.0298,  0.0020,\n",
      "        -0.0164, -0.0129, -0.0136, -0.0267, -0.0161,  0.0283,  0.0218,  0.0234])\n",
      "fc2.weight\n",
      "tensor([[-0.1084, -0.1104,  0.1025,  ...,  0.0448,  0.0729,  0.1699],\n",
      "        [-0.0593, -0.1072,  0.1283,  ..., -0.0471,  0.0327, -0.1190],\n",
      "        [-0.1477, -0.1216,  0.0104,  ...,  0.0205,  0.0137, -0.1070],\n",
      "        ...,\n",
      "        [-0.1121,  0.0123, -0.0682,  ..., -0.1026,  0.1203, -0.0791],\n",
      "        [-0.0191,  0.0246,  0.1755,  ..., -0.1550,  0.1343,  0.0649],\n",
      "        [ 0.0704,  0.1165,  0.0312,  ...,  0.1136,  0.1464, -0.0589]])\n",
      "fc2.bias\n",
      "tensor([ 0.0897,  0.0466, -0.1518, -0.0940, -0.0059,  0.1192,  0.0572, -0.0690,\n",
      "         0.0179,  0.1341, -0.0583, -0.1109, -0.0572,  0.1346,  0.0417,  0.0604,\n",
      "         0.0227,  0.1450,  0.1087,  0.0556,  0.0776,  0.0050,  0.1256, -0.0187,\n",
      "         0.1405,  0.0324,  0.1331,  0.0555, -0.0319,  0.0147, -0.1120, -0.1174])\n",
      "fc3.weight\n",
      "tensor([[-0.1492,  0.1563, -0.1242,  ...,  0.1630,  0.1054,  0.0210],\n",
      "        [ 0.1698, -0.1469, -0.0027,  ..., -0.1129, -0.1386,  0.1146],\n",
      "        [ 0.1621,  0.1153, -0.1494,  ..., -0.1035, -0.1642,  0.0960],\n",
      "        ...,\n",
      "        [ 0.0311,  0.0265,  0.1533,  ..., -0.0751, -0.0072,  0.0032],\n",
      "        [ 0.1186,  0.0438,  0.1389,  ..., -0.1700, -0.0386,  0.1093],\n",
      "        [-0.0979,  0.0015,  0.0385,  ...,  0.0289,  0.1272,  0.1079]])\n",
      "fc3.bias\n",
      "tensor([ 0.0621, -0.0485, -0.0582, -0.0848, -0.1148, -0.0081, -0.0594,  0.1474,\n",
      "        -0.1254, -0.1439,  0.1550, -0.0987,  0.1030,  0.0665, -0.0222,  0.1360,\n",
      "         0.0052, -0.0843,  0.0291,  0.0791,  0.1051, -0.0080,  0.0788,  0.1028,\n",
      "        -0.0258, -0.0891, -0.1780,  0.1291, -0.0454,  0.0049,  0.0629,  0.0189])\n",
      "fc1.weight\n",
      "tensor([[ 0.0184, -0.0158, -0.0069,  ...,  0.0068, -0.0041,  0.0025],\n",
      "        [-0.0274, -0.0224, -0.0309,  ..., -0.0029,  0.0013, -0.0167],\n",
      "        [ 0.0282, -0.0095, -0.0340,  ..., -0.0141,  0.0056, -0.0335],\n",
      "        ...,\n",
      "        [ 0.0226,  0.0331,  0.0182,  ...,  0.0150,  0.0278, -0.0073],\n",
      "        [-0.0210,  0.0144,  0.0214,  ..., -0.0308, -0.0335,  0.0085],\n",
      "        [ 0.0219,  0.0195, -0.0009,  ...,  0.0191,  0.0218, -0.0320]])\n",
      "fc1.bias\n",
      "tensor([-0.0307, -0.0331, -0.0263, -0.0178, -0.0344,  0.0138,  0.0016, -0.0208,\n",
      "         0.0306, -0.0286,  0.0310,  0.0326,  0.0169,  0.0296,  0.0092, -0.0179,\n",
      "         0.0081,  0.0100, -0.0235, -0.0033,  0.0248,  0.0040, -0.0298,  0.0020,\n",
      "        -0.0164, -0.0129, -0.0136, -0.0267, -0.0161,  0.0283,  0.0218,  0.0234])\n",
      "fc2.weight\n",
      "tensor([[-0.1084, -0.1104,  0.1025,  ...,  0.0448,  0.0729,  0.1699],\n",
      "        [-0.0593, -0.1072,  0.1283,  ..., -0.0471,  0.0327, -0.1190],\n",
      "        [-0.1477, -0.1216,  0.0104,  ...,  0.0205,  0.0137, -0.1070],\n",
      "        ...,\n",
      "        [-0.1121,  0.0123, -0.0682,  ..., -0.1026,  0.1203, -0.0791],\n",
      "        [-0.0191,  0.0246,  0.1755,  ..., -0.1550,  0.1343,  0.0649],\n",
      "        [ 0.0704,  0.1165,  0.0312,  ...,  0.1136,  0.1464, -0.0589]])\n",
      "fc2.bias\n",
      "tensor([ 0.0897,  0.0466, -0.1518, -0.0940, -0.0059,  0.1192,  0.0572, -0.0690,\n",
      "         0.0179,  0.1341, -0.0583, -0.1109, -0.0572,  0.1346,  0.0417,  0.0604,\n",
      "         0.0227,  0.1450,  0.1087,  0.0556,  0.0776,  0.0050,  0.1256, -0.0187,\n",
      "         0.1405,  0.0324,  0.1331,  0.0555, -0.0319,  0.0147, -0.1120, -0.1174])\n",
      "fc3.weight\n",
      "tensor([[-0.1492,  0.1563, -0.1242,  ...,  0.1630,  0.1054,  0.0210],\n",
      "        [ 0.1698, -0.1469, -0.0027,  ..., -0.1129, -0.1386,  0.1146],\n",
      "        [ 0.1621,  0.1153, -0.1494,  ..., -0.1035, -0.1642,  0.0960],\n",
      "        ...,\n",
      "        [ 0.0311,  0.0265,  0.1533,  ..., -0.0751, -0.0072,  0.0032],\n",
      "        [ 0.1186,  0.0438,  0.1389,  ..., -0.1700, -0.0386,  0.1093],\n",
      "        [-0.0979,  0.0015,  0.0385,  ...,  0.0289,  0.1272,  0.1079]])\n",
      "fc3.bias\n",
      "tensor([ 0.0621, -0.0485, -0.0582, -0.0848, -0.1148, -0.0081, -0.0594,  0.1474,\n",
      "        -0.1254, -0.1439,  0.1550, -0.0987,  0.1030,  0.0665, -0.0222,  0.1360,\n",
      "         0.0052, -0.0843,  0.0291,  0.0791,  0.1051, -0.0080,  0.0788,  0.1028,\n",
      "        -0.0258, -0.0891, -0.1780,  0.1291, -0.0454,  0.0049,  0.0629,  0.0189])\n",
      "batch1.weight\n",
      "tensor([1., 1., 1., 1., 1., 1., 1., 1., 1., 1., 1., 1., 1., 1., 1., 1., 1., 1.,\n",
      "        1., 1., 1., 1., 1., 1., 1., 1., 1., 1., 1., 1., 1., 1.])\n",
      "batch1.bias\n",
      "tensor([0., 0., 0., 0., 0., 0., 0., 0., 0., 0., 0., 0., 0., 0., 0., 0., 0., 0., 0., 0., 0., 0., 0., 0.,\n",
      "        0., 0., 0., 0., 0., 0., 0., 0.])\n",
      "batch1.running_mean\n",
      "tensor([0., 0., 0., 0., 0., 0., 0., 0., 0., 0., 0., 0., 0., 0., 0., 0., 0., 0., 0., 0., 0., 0., 0., 0.,\n",
      "        0., 0., 0., 0., 0., 0., 0., 0.])\n",
      "batch1.running_var\n",
      "tensor([1., 1., 1., 1., 1., 1., 1., 1., 1., 1., 1., 1., 1., 1., 1., 1., 1., 1.,\n",
      "        1., 1., 1., 1., 1., 1., 1., 1., 1., 1., 1., 1., 1., 1.])\n",
      "batch1.num_batches_tracked\n",
      "tensor(0)\n",
      "batch2.weight\n",
      "tensor([1., 1., 1., 1., 1., 1., 1., 1., 1., 1., 1., 1., 1., 1., 1., 1., 1., 1.,\n",
      "        1., 1., 1., 1., 1., 1., 1., 1., 1., 1., 1., 1., 1., 1.])\n",
      "batch2.bias\n",
      "tensor([0., 0., 0., 0., 0., 0., 0., 0., 0., 0., 0., 0., 0., 0., 0., 0., 0., 0., 0., 0., 0., 0., 0., 0.,\n",
      "        0., 0., 0., 0., 0., 0., 0., 0.])\n",
      "batch2.running_mean\n",
      "tensor([0., 0., 0., 0., 0., 0., 0., 0., 0., 0., 0., 0., 0., 0., 0., 0., 0., 0., 0., 0., 0., 0., 0., 0.,\n",
      "        0., 0., 0., 0., 0., 0., 0., 0.])\n",
      "batch2.running_var\n",
      "tensor([1., 1., 1., 1., 1., 1., 1., 1., 1., 1., 1., 1., 1., 1., 1., 1., 1., 1.,\n",
      "        1., 1., 1., 1., 1., 1., 1., 1., 1., 1., 1., 1., 1., 1.])\n",
      "batch2.num_batches_tracked\n",
      "tensor(0)\n"
     ]
    }
   ],
   "source": [
    "for names in base_model.state_dict():\n",
    "    print(names)\n",
    "    print(base_model.state_dict()[names])\n",
    "\n",
    "for name in bn_model.state_dict():\n",
    "    print(name)\n",
    "    print(bn_model.state_dict()[name])"
   ]
  },
  {
   "cell_type": "markdown",
   "metadata": {},
   "source": [
    "# Train loss vs Test loss 비교하기"
   ]
  },
  {
   "cell_type": "code",
   "execution_count": 11,
   "metadata": {},
   "outputs": [
    {
     "data": {
      "text/plain": [
       "1875"
      ]
     },
     "execution_count": 11,
     "metadata": {},
     "output_type": "execute_result"
    }
   ],
   "source": [
    "len(train_loader)"
   ]
  },
  {
   "cell_type": "code",
   "execution_count": 7,
   "metadata": {},
   "outputs": [
    {
     "name": "stdout",
     "output_type": "stream",
     "text": [
      "epoch:  0 cost:  5.057408634456806e-05\n",
      "epoch:  1 cost:  1.9800858353846706e-05\n",
      "epoch:  2 cost:  1.3690491869056132e-05\n",
      "epoch:  3 cost:  1.1773519872804172e-05\n",
      "epoch:  4 cost:  1.6117228369694203e-05\n",
      "epoch:  5 cost:  1.7431439118809067e-05\n",
      "epoch:  6 cost:  1.5606561646563932e-05\n",
      "epoch:  7 cost:  1.7677084542810917e-05\n",
      "epoch:  8 cost:  1.6763293388066813e-05\n",
      "epoch:  9 cost:  1.4744530744792428e-05\n",
      "epoch:  10 cost:  1.22299925351399e-05\n",
      "epoch:  11 cost:  1.0585506061033811e-05\n",
      "epoch:  12 cost:  1.123619222198613e-05\n",
      "epoch:  13 cost:  9.816709280130453e-06\n",
      "epoch:  14 cost:  7.574075425509363e-06\n"
     ]
    }
   ],
   "source": [
    "base_model = basic_model()\n",
    "base_criterion = torch.nn.CrossEntropyLoss()\n",
    "base_optimizer = optim.Adam(base_model.parameters(), lr=0.001)\n",
    "\n",
    "base_train_loss = []\n",
    "base_test_loss = []\n",
    "\n",
    "for epoch in range(15):\n",
    "    base_model.train()\n",
    "    avg_cost = 0\n",
    "\n",
    "    for X,Y in train_loader:\n",
    "        X = X.view(-1, 28*28)\n",
    "        Y = Y\n",
    "\n",
    "        base_optimizer.zero_grad()\n",
    "        base_predict = base_model(X)\n",
    "        base_loss = base_criterion(base_predict, Y)\n",
    "        base_loss.backward()\n",
    "        base_optimizer.step()\n",
    "\n",
    "    avg_cost += base_loss / len(train_loader)\n",
    "    base_train_loss.append(avg_cost.item())\n",
    "\n",
    "    print('epoch: ', epoch, 'cost: ', avg_cost.item() )\n",
    "\n",
    "\n",
    "        "
   ]
  },
  {
   "cell_type": "code",
   "execution_count": 9,
   "metadata": {},
   "outputs": [
    {
     "data": {
      "text/plain": [
       "[6.162463978398591e-05,\n",
       " 3.775424920604564e-05,\n",
       " 1.9667701053549536e-05,\n",
       " 1.3259685147204436e-05,\n",
       " 1.0538067726884037e-05,\n",
       " 8.068742317846045e-06,\n",
       " 6.615039183088811e-06,\n",
       " 6.827609922765987e-06,\n",
       " 6.708504315611208e-06,\n",
       " 5.4978104344627354e-06,\n",
       " 6.794320142944343e-06,\n",
       " 5.0577095862536225e-06,\n",
       " 6.226142886589514e-06,\n",
       " 1.1537786122062244e-05,\n",
       " 6.850424597359961e-06]"
      ]
     },
     "execution_count": 9,
     "metadata": {},
     "output_type": "execute_result"
    }
   ],
   "source": [
    "base_train_loss"
   ]
  },
  {
   "cell_type": "code",
   "execution_count": 8,
   "metadata": {},
   "outputs": [
    {
     "data": {
      "text/plain": [
       "<function matplotlib.pyplot.show(close=None, block=None)>"
      ]
     },
     "execution_count": 8,
     "metadata": {},
     "output_type": "execute_result"
    },
    {
     "data": {
      "image/png": "[encoded data removed]",
      "text/plain": [
       "<Figure size 720x360 with 1 Axes>"
      ]
     },
     "metadata": {
      "needs_background": "light"
     },
     "output_type": "display_data"
    }
   ],
   "source": [
    "plt.figure(figsize=(10,5))\n",
    "plt.subplot(1,2,1)\n",
    "plt.xlabel('epoch')\n",
    "plt.ylabel('loss')\n",
    "plt.plot(range(15),base_train_loss)\n",
    "plt.show"
   ]
  },
  {
   "cell_type": "code",
   "execution_count": null,
   "metadata": {},
   "outputs": [],
   "source": []
  }
 ],
 "metadata": {
  "interpreter": {
   "hash": "5777bc8a7577125a1c00ed1671130ea029cae56addc813f4c39a4f837e26f28b"
  },
  "kernelspec": {
   "display_name": "Python 3.9.6 64-bit ('main': conda)",
   "name": "python3"
  },
  "language_info": {
   "codemirror_mode": {
    "name": "ipython",
    "version": 3
   },
   "file_extension": ".py",
   "mimetype": "text/x-python",
   "name": "python",
   "nbconvert_exporter": "python",
   "pygments_lexer": "ipython3",
   "version": "3.9.6"
  },
  "orig_nbformat": 4
 },
 "nbformat": 4,
 "nbformat_minor": 2
}
