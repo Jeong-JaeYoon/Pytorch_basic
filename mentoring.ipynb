{
 "cells": [
  {
   "cell_type": "markdown",
   "metadata": {},
   "source": [
    "# batch normalization이 미치는 영향"
   ]
  },
  {
   "cell_type": "code",
   "execution_count": 49,
   "metadata": {},
   "outputs": [],
   "source": [
    "import torch\n",
    "import torch.nn as nn\n",
    "import torch.optim as optim\n",
    "\n",
    "from torchvision import datasets\n",
    "from torchvision import transforms\n",
    "from torch.utils.data import DataLoader, TensorDataset\n",
    "\n",
    "import matplotlib.pyplot as plt\n",
    "import numpy as np\n",
    "import copy\n",
    "\n",
    "#np.set_printoptions(threshold=np.inf, linewidth=np.inf)"
   ]
  },
  {
   "cell_type": "code",
   "execution_count": 50,
   "metadata": {},
   "outputs": [],
   "source": [
    "torch.manual_seed(1)\n",
    "\n",
    "mnist_train = datasets.MNIST(root='MNIST_data/', train=True, download=True, transform=transforms.ToTensor())\n",
    "mnist_test = datasets.MNIST(root='MNIST_data/', train=False, download=True, transform=transforms.ToTensor())\n",
    "\n",
    "train_set, val_set = torch.utils.data.random_split(mnist_train,[50000,10000])\n",
    "\n",
    "train_loader = DataLoader(dataset=train_set, batch_size=32, shuffle=False, drop_last=True)\n",
    "val_loader = DataLoader(dataset=val_set, batch_size=32, shuffle=False, drop_last=True)\n",
    "test_loader = DataLoader(dataset=mnist_test, batch_size=32, shuffle=False, drop_last=True)"
   ]
  },
  {
   "cell_type": "code",
   "execution_count": 51,
   "metadata": {},
   "outputs": [],
   "source": [
    "linear1 = nn.Linear(784,32,bias=True)\n",
    "linear2 = nn.Linear(32,32,bias=True)\n",
    "linear3 = nn.Linear(32,32,bias=True)\n",
    "\n",
    "bn_linear1 = copy.deepcopy(linear1)\n",
    "bn_linear2 = copy.deepcopy(linear2)\n",
    "bn_linear3 = copy.deepcopy(linear3)\n",
    "\n",
    "class basic_model(nn.Module):\n",
    "    def __init__(self):\n",
    "        super(basic_model, self).__init__()\n",
    "        self.fc1 = linear1\n",
    "        self.fc2 = linear2\n",
    "        self.fc3 = linear3\n",
    "        self.relu = nn.ReLU()\n",
    "\n",
    "    def forward(self, x):\n",
    "        out = self.fc1(x)\n",
    "        print(out)\n",
    "        out = self.relu(out)\n",
    "        print(out)\n",
    "        out = self.fc2(out)\n",
    "        out = self.relu(out)\n",
    "        out = self.fc3(out)\n",
    "        return out\n",
    "\n",
    "class batchnorm_model(nn.Module):\n",
    "    def __init__(self):\n",
    "        super(batchnorm_model,self).__init__()\n",
    "        self.fc1 = bn_linear1\n",
    "        self.fc2 = bn_linear2 \n",
    "        self.fc3 = bn_linear3\n",
    "        self.relu = nn.ReLU()\n",
    "        self.batch1 = nn.BatchNorm1d(32)\n",
    "        self.batch2 = nn.BatchNorm1d(32)\n",
    "    \n",
    "    def forward(self, x):\n",
    "        out = self.fc1(x)\n",
    "        print(out)\n",
    "        out = self.batch1(out)\n",
    "        print(out)\n",
    "        out = self.relu(out)\n",
    "        print(out)\n",
    "        out = self.fc2(out)\n",
    "        out = self.batch2(out)\n",
    "        out = self.relu(out)\n",
    "        out = self.fc3(out)\n",
    "        return out"
   ]
  },
  {
   "cell_type": "code",
   "execution_count": 53,
   "metadata": {},
   "outputs": [
    {
     "name": "stdout",
     "output_type": "stream",
     "text": [
      "tensor([[-0.2773,  0.1910, -0.0604,  ..., -0.0570, -0.0295, -0.0212],\n",
      "        [ 0.0277,  0.0046,  0.1436,  ...,  0.2285,  0.0544,  0.1282],\n",
      "        [-0.0747,  0.0994,  0.0819,  ..., -0.0595, -0.0445,  0.1574],\n",
      "        ...,\n",
      "        [-0.1266, -0.0923, -0.0578,  ...,  0.2483,  0.0372,  0.0918],\n",
      "        [-0.0635,  0.0516, -0.0665,  ...,  0.2948,  0.1509,  0.3686],\n",
      "        [-0.0890,  0.1214, -0.1457,  ...,  0.3318,  0.1116,  0.2712]],\n",
      "       grad_fn=<AddmmBackward>)\n",
      "tensor([[0.0000, 0.1910, 0.0000,  ..., 0.0000, 0.0000, 0.0000],\n",
      "        [0.0277, 0.0046, 0.1436,  ..., 0.2285, 0.0544, 0.1282],\n",
      "        [0.0000, 0.0994, 0.0819,  ..., 0.0000, 0.0000, 0.1574],\n",
      "        ...,\n",
      "        [0.0000, 0.0000, 0.0000,  ..., 0.2483, 0.0372, 0.0918],\n",
      "        [0.0000, 0.0516, 0.0000,  ..., 0.2948, 0.1509, 0.3686],\n",
      "        [0.0000, 0.1214, 0.0000,  ..., 0.3318, 0.1116, 0.2712]],\n",
      "       grad_fn=<ReluBackward0>)\n"
     ]
    }
   ],
   "source": [
    "base_model = basic_model()\n",
    "\n",
    "for epoch in range(1):\n",
    "    for X,Y in train_loader:\n",
    "        X = X.view(-1, 28*28)\n",
    "        Y = Y\n",
    "\n",
    "        base_predict = base_model(X)\n",
    "        break"
   ]
  },
  {
   "cell_type": "code",
   "execution_count": 54,
   "metadata": {},
   "outputs": [
    {
     "name": "stdout",
     "output_type": "stream",
     "text": [
      "tensor([[-0.2773,  0.1910, -0.0604,  ..., -0.0570, -0.0295, -0.0212],\n",
      "        [ 0.0277,  0.0046,  0.1436,  ...,  0.2285,  0.0544,  0.1282],\n",
      "        [-0.0747,  0.0994,  0.0819,  ..., -0.0595, -0.0445,  0.1574],\n",
      "        ...,\n",
      "        [-0.1266, -0.0923, -0.0578,  ...,  0.2483,  0.0372,  0.0918],\n",
      "        [-0.0635,  0.0516, -0.0665,  ...,  0.2948,  0.1509,  0.3686],\n",
      "        [-0.0890,  0.1214, -0.1457,  ...,  0.3318,  0.1116,  0.2712]],\n",
      "       grad_fn=<AddmmBackward>)\n",
      "tensor([[-1.8675,  1.2132, -0.1984,  ..., -2.1870,  0.0790, -0.5646],\n",
      "        [ 0.7402, -0.3421,  1.2790,  ...,  0.4531,  0.8082,  0.5076],\n",
      "        [-0.1359,  0.4484,  0.8322,  ..., -2.2098, -0.0508,  0.7178],\n",
      "        ...,\n",
      "        [-0.5797, -1.1509, -0.1794,  ...,  0.6363,  0.6588,  0.2464],\n",
      "        [-0.0397,  0.0501, -0.2424,  ...,  1.0661,  1.6472,  2.2341],\n",
      "        [-0.2577,  0.6325, -0.8163,  ...,  1.4082,  1.3057,  1.5345]],\n",
      "       grad_fn=<NativeBatchNormBackward>)\n",
      "tensor([[0.0000, 1.2132, 0.0000,  ..., 0.0000, 0.0790, 0.0000],\n",
      "        [0.7402, 0.0000, 1.2790,  ..., 0.4531, 0.8082, 0.5076],\n",
      "        [0.0000, 0.4484, 0.8322,  ..., 0.0000, 0.0000, 0.7178],\n",
      "        ...,\n",
      "        [0.0000, 0.0000, 0.0000,  ..., 0.6363, 0.6588, 0.2464],\n",
      "        [0.0000, 0.0501, 0.0000,  ..., 1.0661, 1.6472, 2.2341],\n",
      "        [0.0000, 0.6325, 0.0000,  ..., 1.4082, 1.3057, 1.5345]],\n",
      "       grad_fn=<ReluBackward0>)\n"
     ]
    }
   ],
   "source": [
    "bn_model = batchnorm_model()\n",
    "\n",
    "for epoch in range(1):\n",
    "    for X,Y in train_loader:\n",
    "        X = X.view(-1, 28*28)\n",
    "        Y = Y\n",
    "\n",
    "        bn_model_predict = bn_model(X)\n",
    "        break"
   ]
  },
  {
   "cell_type": "code",
   "execution_count": 6,
   "metadata": {},
   "outputs": [],
   "source": [
    "base_model = basic_model()\n",
    "base_criterion = torch.nn.CrossEntropyLoss()\n",
    "base_optimizer = optim.Adam(base_model.parameters(), lr=0.001)\n",
    "\n",
    "base_train_loss = []\n",
    "base_test_loss = []\n",
    "\n",
    "for epoch in range(1):\n",
    "    base_model.train()\n",
    "\n",
    "    for X,Y in train_loader:\n",
    "        X = X.view(-1, 28*28)\n",
    "        Y = Y\n",
    "\n",
    "        base_optimizer.zero_grad()\n",
    "        base_predict = base_model(X)\n",
    "        base_loss = base_criterion(base_predict, Y)\n",
    "        base_loss.backward()\n",
    "        base_optimizer.step()\n",
    "\n",
    "        break\n",
    "        "
   ]
  },
  {
   "cell_type": "code",
   "execution_count": 7,
   "metadata": {},
   "outputs": [],
   "source": [
    "\n",
    "bn_model = batchnorm_model()\n",
    "bn_criterion = torch.nn.CrossEntropyLoss()\n",
    "bn_optimizer = optim.Adam(bn_model.parameters(), lr=0.001)\n",
    "\n",
    "bn_train_loss = []\n",
    "bn_test_loss = []\n",
    "\n",
    "for epoch in range(1):\n",
    "    bn_model.train()\n",
    "\n",
    "    for X,Y in train_loader:\n",
    "        X = X.view(-1, 28*28)\n",
    "        Y = Y\n",
    "\n",
    "        bn_optimizer.zero_grad()\n",
    "        bn_predict = bn_model(X)\n",
    "        bn_loss = bn_criterion(bn_predict, Y)\n",
    "        bn_loss.backward()\n",
    "        bn_optimizer.step()\n",
    "\n",
    "        break"
   ]
  },
  {
   "cell_type": "code",
   "execution_count": 8,
   "metadata": {},
   "outputs": [
    {
     "name": "stdout",
     "output_type": "stream",
     "text": [
      "fc1.weight\n",
      "tensor([[ 0.0184, -0.0158, -0.0069,  ...,  0.0068, -0.0041,  0.0025],\n",
      "        [-0.0274, -0.0224, -0.0309,  ..., -0.0029,  0.0013, -0.0167],\n",
      "        [ 0.0282, -0.0095, -0.0340,  ..., -0.0141,  0.0056, -0.0335],\n",
      "        ...,\n",
      "        [ 0.0226,  0.0331,  0.0182,  ...,  0.0150,  0.0278, -0.0073],\n",
      "        [-0.0210,  0.0144,  0.0214,  ..., -0.0308, -0.0335,  0.0085],\n",
      "        [ 0.0219,  0.0195, -0.0009,  ...,  0.0191,  0.0218, -0.0320]])\n",
      "fc1.bias\n",
      "tensor([-0.0307, -0.0337, -0.0269, -0.0182, -0.0350,  0.0134,  0.0020, -0.0210,\n",
      "         0.0300, -0.0290,  0.0310,  0.0319,  0.0175,  0.0299,  0.0098, -0.0173,\n",
      "         0.0081,  0.0106, -0.0235, -0.0038,  0.0250,  0.0034, -0.0303,  0.0020,\n",
      "        -0.0158, -0.0134, -0.0135, -0.0273, -0.0155,  0.0288,  0.0213,  0.0234])\n",
      "fc2.weight\n",
      "tensor([[-0.1074, -0.1094,  0.1015,  ...,  0.0438,  0.0739,  0.1689],\n",
      "        [-0.0603, -0.1082,  0.1293,  ..., -0.0461,  0.0317, -0.1180],\n",
      "        [-0.1467, -0.1206,  0.0114,  ...,  0.0195,  0.0147, -0.1060],\n",
      "        ...,\n",
      "        [-0.1111,  0.0113, -0.0692,  ..., -0.1016,  0.1193, -0.0781],\n",
      "        [-0.0201,  0.0256,  0.1745,  ..., -0.1540,  0.1353,  0.0659],\n",
      "        [ 0.0714,  0.1155,  0.0302,  ...,  0.1146,  0.1454, -0.0599]])\n",
      "fc2.bias\n",
      "tensor([ 0.0900,  0.0469, -0.1522, -0.0942, -0.0061,  0.1194,  0.0573, -0.0690,\n",
      "         0.0178,  0.1344, -0.0580, -0.1107, -0.0570,  0.1343,  0.0418,  0.0606,\n",
      "         0.0224,  0.1450,  0.1090,  0.0554,  0.0777,  0.0046,  0.1253, -0.0187,\n",
      "         0.1410,  0.0321,  0.1329,  0.0555, -0.0317,  0.0148, -0.1126, -0.1178])\n",
      "fc3.weight\n",
      "tensor([[-0.1482,  0.1573, -0.1232,  ...,  0.1640,  0.1044,  0.0200],\n",
      "        [ 0.1688, -0.1479, -0.0037,  ..., -0.1139, -0.1396,  0.1136],\n",
      "        [ 0.1611,  0.1143, -0.1504,  ..., -0.1045, -0.1652,  0.0950],\n",
      "        ...,\n",
      "        [ 0.0321,  0.0275,  0.1543,  ..., -0.0741, -0.0062,  0.0042],\n",
      "        [ 0.1196,  0.0448,  0.1399,  ..., -0.1690, -0.0376,  0.1103],\n",
      "        [-0.0969,  0.0025,  0.0395,  ...,  0.0299,  0.1282,  0.1089]])\n",
      "fc3.bias\n",
      "tensor([ 0.0611, -0.0495, -0.0592, -0.0858, -0.1158, -0.0091, -0.0604,  0.1464,\n",
      "        -0.1264, -0.1449,  0.1560, -0.0977,  0.1040,  0.0675, -0.0212,  0.1370,\n",
      "         0.0062, -0.0833,  0.0301,  0.0801,  0.1061, -0.0070,  0.0798,  0.1038,\n",
      "        -0.0248, -0.0881, -0.1770,  0.1301, -0.0444,  0.0059,  0.0639,  0.0199])\n",
      "fc1.weight\n",
      "tensor([[ 0.0184, -0.0158, -0.0069,  ...,  0.0068, -0.0041,  0.0025],\n",
      "        [-0.0274, -0.0224, -0.0309,  ..., -0.0029,  0.0013, -0.0167],\n",
      "        [ 0.0282, -0.0095, -0.0340,  ..., -0.0141,  0.0056, -0.0335],\n",
      "        ...,\n",
      "        [ 0.0226,  0.0331,  0.0182,  ...,  0.0150,  0.0278, -0.0073],\n",
      "        [-0.0210,  0.0144,  0.0214,  ..., -0.0308, -0.0335,  0.0085],\n",
      "        [ 0.0219,  0.0195, -0.0009,  ...,  0.0191,  0.0218, -0.0320]])\n",
      "fc1.bias\n",
      "tensor([-0.0314, -0.0349, -0.0286, -0.0182, -0.0334,  0.0130,  0.0016, -0.0218,\n",
      "         0.0313, -0.0297,  0.0320,  0.0315,  0.0161,  0.0313,  0.0099, -0.0163,\n",
      "         0.0068,  0.0089, -0.0249, -0.0032,  0.0256,  0.0029, -0.0317,  0.0037,\n",
      "        -0.0152, -0.0131, -0.0120, -0.0279, -0.0151,  0.0273,  0.0208,  0.0222])\n",
      "fc2.weight\n",
      "tensor([[-0.1074, -0.1094,  0.0995,  ...,  0.0438,  0.0719,  0.1689],\n",
      "        [-0.0603, -0.1082,  0.1293,  ..., -0.0461,  0.0317, -0.1200],\n",
      "        [-0.1477, -0.1216,  0.0104,  ...,  0.0205,  0.0137, -0.1070],\n",
      "        ...,\n",
      "        [-0.1131,  0.0113, -0.0692,  ..., -0.1016,  0.1193, -0.0781],\n",
      "        [-0.0211,  0.0276,  0.1755,  ..., -0.1540,  0.1353,  0.0679],\n",
      "        [ 0.0694,  0.1155,  0.0302,  ...,  0.1126,  0.1454, -0.0599]])\n",
      "fc2.bias\n",
      "tensor([ 0.0892,  0.0460, -0.1526, -0.0956, -0.0049,  0.1181,  0.0587, -0.0682,\n",
      "         0.0169,  0.1332, -0.0568, -0.1106, -0.0573,  0.1359,  0.0431,  0.0616,\n",
      "         0.0234,  0.1437,  0.1077,  0.0566,  0.0786,  0.0051,  0.1265, -0.0197,\n",
      "         0.1417,  0.0310,  0.1343,  0.0545, -0.0304,  0.0160, -0.1112, -0.1189])\n",
      "fc3.weight\n",
      "tensor([[-0.1482,  0.1553, -0.1242,  ...,  0.1620,  0.1064,  0.0200],\n",
      "        [ 0.1668, -0.1479, -0.0027,  ..., -0.1139, -0.1396,  0.1136],\n",
      "        [ 0.1611,  0.1123, -0.1494,  ..., -0.1045, -0.1652,  0.0950],\n",
      "        ...,\n",
      "        [ 0.0321,  0.0275,  0.1533,  ..., -0.0741, -0.0062,  0.0042],\n",
      "        [ 0.1196,  0.0448,  0.1389,  ..., -0.1690, -0.0376,  0.1103],\n",
      "        [-0.0969,  0.0025,  0.0385,  ...,  0.0299,  0.1282,  0.1089]])\n",
      "fc3.bias\n",
      "tensor([ 0.0611, -0.0495, -0.0592, -0.0858, -0.1158, -0.0091, -0.0604,  0.1464,\n",
      "        -0.1264, -0.1449,  0.1560, -0.0977,  0.1040,  0.0675, -0.0212,  0.1370,\n",
      "         0.0062, -0.0833,  0.0301,  0.0801,  0.1061, -0.0070,  0.0798,  0.1038,\n",
      "        -0.0248, -0.0881, -0.1770,  0.1301, -0.0444,  0.0059,  0.0639,  0.0199])\n",
      "batch1.weight\n",
      "tensor([1.0010, 0.9990, 1.0010, 0.9990, 0.9990, 1.0010, 0.9990, 1.0010, 0.9990,\n",
      "        0.9990, 0.9990, 1.0010, 1.0010, 0.9990, 0.9990, 1.0010, 0.9990, 1.0010,\n",
      "        1.0010, 0.9990, 0.9990, 1.0010, 1.0010, 1.0010, 1.0010, 1.0010, 1.0010,\n",
      "        1.0010, 0.9990, 0.9990, 1.0010, 0.9990])\n",
      "batch1.bias\n",
      "tensor([ 0.0010, -0.0010, -0.0010, -0.0010,  0.0010,  0.0010,  0.0010,  0.0010,\n",
      "         0.0010, -0.0010, -0.0010,  0.0010,  0.0010, -0.0010, -0.0010,  0.0010,\n",
      "         0.0010,  0.0010,  0.0010, -0.0010,  0.0010,  0.0010,  0.0010, -0.0010,\n",
      "         0.0010, -0.0010, -0.0010,  0.0010,  0.0010, -0.0010,  0.0010, -0.0010])\n",
      "batch1.running_mean\n",
      "tensor([-0.0084,  0.0062, -0.0079, -0.0357, -0.0192, -0.0099,  0.0195, -0.0008,\n",
      "         0.0050, -0.0161, -0.0286, -0.0058,  0.0289,  0.0074,  0.0031, -0.0072,\n",
      "         0.0113,  0.0179, -0.0011,  0.0076, -0.0102,  0.0057, -0.0091, -0.0051,\n",
      "        -0.0162, -0.0177,  0.0059, -0.0079, -0.0048, -0.0094,  0.0370,  0.0101])\n",
      "batch1.running_var\n",
      "tensor([0.9010, 0.9019, 0.9015, 0.9045, 0.9012, 0.9020, 0.9020, 0.9018, 0.9016,\n",
      "        0.9006, 0.9021, 0.9014, 0.9020, 0.9018, 0.9015, 0.9016, 0.9011, 0.9022,\n",
      "        0.9010, 0.9022, 0.9028, 0.9028, 0.9022, 0.9017, 0.9023, 0.9026, 0.9028,\n",
      "        0.9013, 0.9023, 0.9022, 0.9031, 0.9017])\n",
      "batch1.num_batches_tracked\n",
      "tensor(1)\n",
      "batch2.weight\n",
      "tensor([1.0010, 0.9990, 0.9990, 0.9990, 1.0010, 1.0010, 0.9990, 0.9990, 1.0010,\n",
      "        1.0010, 0.9990, 0.9990, 1.0010, 0.9990, 0.9990, 1.0010, 0.9990, 0.9990,\n",
      "        1.0010, 0.9990, 0.9990, 0.9990, 0.9990, 0.9990, 0.9990, 0.9990, 0.9990,\n",
      "        1.0010, 0.9990, 0.9990, 0.9990, 1.0010])\n",
      "batch2.bias\n",
      "tensor([ 0.0010, -0.0010, -0.0010, -0.0010, -0.0010,  0.0010, -0.0010, -0.0010,\n",
      "         0.0010,  0.0010,  0.0010, -0.0010, -0.0010, -0.0010, -0.0010, -0.0010,\n",
      "        -0.0010,  0.0010,  0.0010, -0.0010,  0.0010,  0.0010, -0.0010,  0.0010,\n",
      "         0.0010,  0.0010, -0.0010,  0.0010, -0.0010, -0.0010, -0.0010,  0.0010])\n",
      "batch2.running_mean\n",
      "tensor([-3.6320e-03,  3.4901e-02, -3.2893e-02,  1.3803e-02,  1.7372e-02,\n",
      "         8.6608e-03,  1.8442e-02,  1.8963e-02,  5.0816e-03,  3.3896e-03,\n",
      "         5.1708e-03, -1.9447e-03, -5.1032e-05,  3.2621e-02, -1.4468e-02,\n",
      "        -7.5726e-04,  3.5278e-02,  2.2446e-02,  2.8632e-02, -1.8836e-02,\n",
      "        -8.5531e-04, -5.0044e-02, -1.3156e-04,  6.7265e-02,  1.6712e-02,\n",
      "         4.6082e-02,  3.9400e-03, -3.4516e-02,  1.0044e-02,  8.3134e-04,\n",
      "        -3.5072e-02,  1.9285e-02])\n",
      "batch2.running_var\n",
      "tensor([0.9136, 0.9137, 0.9077, 0.9109, 0.9115, 0.9121, 0.9056, 0.9076, 0.9155,\n",
      "        0.9131, 0.9110, 0.9204, 0.9134, 0.9100, 0.9070, 0.9097, 0.9076, 0.9118,\n",
      "        0.9068, 0.9082, 0.9174, 0.9108, 0.9161, 0.9191, 0.9073, 0.9115, 0.9076,\n",
      "        0.9067, 0.9174, 0.9094, 0.9142, 0.9115])\n",
      "batch2.num_batches_tracked\n",
      "tensor(1)\n"
     ]
    }
   ],
   "source": [
    "for names in base_model.state_dict():\n",
    "    print(names)\n",
    "    print(base_model.state_dict()[names])\n",
    "\n",
    "for name in bn_model.state_dict():\n",
    "    print(name)\n",
    "    print(bn_model.state_dict()[name])"
   ]
  },
  {
   "cell_type": "markdown",
   "metadata": {},
   "source": [
    "# Train loss vs Test loss 비교하기"
   ]
  },
  {
   "cell_type": "code",
   "execution_count": 60,
   "metadata": {},
   "outputs": [],
   "source": [
    "train_loader = DataLoader(dataset=train_set, batch_size=32, shuffle=True, drop_last=True)\n",
    "val_loader = DataLoader(dataset=val_set, batch_size=32, shuffle=True, drop_last=True)\n",
    "test_loader = DataLoader(dataset=mnist_test, batch_size=32, shuffle=True, drop_last=True)\n",
    "\n",
    "class basic_model(nn.Module):\n",
    "    def __init__(self):\n",
    "        super(basic_model, self).__init__()\n",
    "        self.fc1 = nn.Linear(784,32,bias=True)\n",
    "        self.fc2 = nn.Linear(32,32,bias=True)\n",
    "        self.fc3 = nn.Linear(32,32,bias=True)\n",
    "        self.relu = nn.ReLU()\n",
    "\n",
    "    def forward(self, x):\n",
    "        out = self.fc1(x)\n",
    "        #print(out)\n",
    "        out = self.relu(out)\n",
    "        #print(out)\n",
    "        out = self.fc2(out)\n",
    "        out = self.relu(out)\n",
    "        out = self.fc3(out)\n",
    "        return out\n",
    "\n",
    "class batchnorm_model(nn.Module):\n",
    "    def __init__(self):\n",
    "        super(batchnorm_model,self).__init__()\n",
    "        self.fc1 = nn.Linear(784,32,bias=True)\n",
    "        self.fc2 = nn.Linear(32,32,bias=True)\n",
    "        self.fc3 = nn.Linear(32,32,bias=True)\n",
    "        self.relu = nn.ReLU()\n",
    "        self.batch1 = nn.BatchNorm1d(32)\n",
    "        self.batch2 = nn.BatchNorm1d(32)\n",
    "    \n",
    "    def forward(self, x):\n",
    "        out = self.fc1(x)\n",
    "        #print(out)\n",
    "        out = self.batch1(out)\n",
    "        #print(out)\n",
    "        out = self.relu(out)\n",
    "        #print(out)\n",
    "        out = self.fc2(out)\n",
    "        out = self.batch2(out)\n",
    "        out = self.relu(out)\n",
    "        out = self.fc3(out)\n",
    "        return out"
   ]
  },
  {
   "cell_type": "code",
   "execution_count": 61,
   "metadata": {},
   "outputs": [
    {
     "name": "stdout",
     "output_type": "stream",
     "text": [
      "epoch:  0 cost:  0.4707348048686981\n",
      "epoch:  1 cost:  0.22334171831607819\n",
      "epoch:  2 cost:  0.1789909452199936\n",
      "epoch:  3 cost:  0.14980609714984894\n",
      "epoch:  4 cost:  0.12536212801933289\n",
      "epoch:  5 cost:  0.11105949431657791\n",
      "epoch:  6 cost:  0.09903765469789505\n",
      "epoch:  7 cost:  0.08935537189245224\n",
      "epoch:  8 cost:  0.08015765994787216\n",
      "epoch:  9 cost:  0.07367173582315445\n"
     ]
    }
   ],
   "source": [
    "base_model = basic_model()\n",
    "base_criterion = torch.nn.CrossEntropyLoss()\n",
    "base_optimizer = optim.Adam(base_model.parameters(), lr=0.001)\n",
    "\n",
    "base_train_iteration_loss = []\n",
    "base_train_epoch_loss = []\n",
    "base_valid_iteration_loss = []\n",
    "base_valid_epoch_loss = []\n",
    "\n",
    "for epoch in range(10):\n",
    "    base_model.train()\n",
    "    train_avg_cost = 0\n",
    "    valid_avg_cost = 0\n",
    "\n",
    "    for X,Y in train_loader:\n",
    "        X = X.view(-1, 28*28)\n",
    "        Y = Y\n",
    "\n",
    "        base_optimizer.zero_grad()\n",
    "        base_predict = base_model(X)\n",
    "        base_loss = base_criterion(base_predict, Y)\n",
    "        base_loss.backward()\n",
    "        base_optimizer.step()\n",
    "\n",
    "        base_train_iteration_loss.append(base_loss.item())\n",
    "        train_avg_cost += base_loss / len(train_loader)\n",
    "    \n",
    "    base_train_epoch_loss.append(train_avg_cost.item())\n",
    "\n",
    "    print('epoch: ', epoch, 'cost: ', train_avg_cost.item())\n",
    "\n",
    "    base_model.eval()\n",
    "    with torch.no_grad():\n",
    "        for X,Y in val_loader:\n",
    "            X = X.view(-1, 28*28)\n",
    "            Y = Y\n",
    "\n",
    "            valid_predict = base_model(X)\n",
    "            valid_loss = base_criterion(valid_predict, Y)\n",
    "            base_valid_iteration_loss.append(valid_loss.item())\n",
    "            valid_avg_cost += valid_loss / len(val_loader)\n",
    "        \n",
    "        base_valid_epoch_loss.append(valid_avg_cost.item())\n",
    "    "
   ]
  },
  {
   "cell_type": "code",
   "execution_count": null,
   "metadata": {},
   "outputs": [],
   "source": []
  },
  {
   "cell_type": "code",
   "execution_count": 82,
   "metadata": {},
   "outputs": [
    {
     "data": {
      "text/plain": [
       "<function matplotlib.pyplot.show(close=None, block=None)>"
      ]
     },
     "execution_count": 82,
     "metadata": {},
     "output_type": "execute_result"
    },
    {
     "data": {
      "image/png": "[encoded data removed]",
      "text/plain": [
       "<Figure size 720x360 with 2 Axes>"
      ]
     },
     "metadata": {
      "needs_background": "light"
     },
     "output_type": "display_data"
    }
   ],
   "source": [
    "plt.figure(figsize=(10,5))\n",
    "plt.subplot(1,2,1)\n",
    "plt.xlabel('iteration')\n",
    "plt.ylabel('loss')\n",
    "plt.plot(range(len(train_loader)*10), base_train_iteration_loss, range(len(val_loader)*10), base_valid_iteration_loss)\n",
    "plt.subplot(1,2,2)\n",
    "plt.xlabel('epoch')\n",
    "plt.ylabel('loss')\n",
    "plt.plot(range(10), base_train_epoch_loss, range(10), base_valid_epoch_loss)\n",
    "plt.show"
   ]
  },
  {
   "cell_type": "code",
   "execution_count": 83,
   "metadata": {},
   "outputs": [
    {
     "name": "stdout",
     "output_type": "stream",
     "text": [
      "epoch:  0 cost:  0.46017006039619446\n",
      "epoch:  1 cost:  0.1793643832206726\n",
      "epoch:  2 cost:  0.14715956151485443\n",
      "epoch:  3 cost:  0.12764407694339752\n",
      "epoch:  4 cost:  0.11396469175815582\n",
      "epoch:  5 cost:  0.10561460256576538\n",
      "epoch:  6 cost:  0.09850456565618515\n",
      "epoch:  7 cost:  0.09395429491996765\n",
      "epoch:  8 cost:  0.08735445886850357\n",
      "epoch:  9 cost:  0.08461065590381622\n"
     ]
    }
   ],
   "source": [
    "bn_model = batchnorm_model()\n",
    "bn_criterion = torch.nn.CrossEntropyLoss()\n",
    "bn_optimizer = optim.Adam(bn_model.parameters(), lr=0.001)\n",
    "\n",
    "bn_train_iteration_loss = []\n",
    "bn_train_epoch_loss = []\n",
    "bn_valid_iteration_loss = []\n",
    "bn_valid_epoch_loss = []\n",
    "\n",
    "for epoch in range(10):\n",
    "    bn_model.train()\n",
    "    train_avg_cost = 0\n",
    "    valid_avg_cost = 0\n",
    "\n",
    "    for X,Y in train_loader:\n",
    "        X = X.view(-1, 28*28)\n",
    "        Y = Y\n",
    "\n",
    "        bn_optimizer.zero_grad()\n",
    "        bn_predict = bn_model(X)\n",
    "        bn_loss = bn_criterion(bn_predict, Y)\n",
    "        bn_loss.backward()\n",
    "        bn_optimizer.step()\n",
    "\n",
    "        bn_train_iteration_loss.append(bn_loss.item())\n",
    "        train_avg_cost += bn_loss / len(train_loader)\n",
    "    \n",
    "    bn_train_epoch_loss.append(train_avg_cost.item())\n",
    "\n",
    "    print('epoch: ', epoch, 'cost: ', train_avg_cost.item())\n",
    "\n",
    "    bn_model.eval()\n",
    "    with torch.no_grad():\n",
    "        for X,Y in val_loader:\n",
    "            X = X.view(-1, 28*28)\n",
    "            Y = Y\n",
    "\n",
    "            valid_predict = bn_model(X)\n",
    "            valid_loss = bn_criterion(valid_predict, Y)\n",
    "            bn_valid_iteration_loss.append(valid_loss.item())\n",
    "            valid_avg_cost += valid_loss / len(val_loader)\n",
    "        \n",
    "        bn_valid_epoch_loss.append(valid_avg_cost.item())\n",
    "    "
   ]
  },
  {
   "cell_type": "code",
   "execution_count": 84,
   "metadata": {},
   "outputs": [
    {
     "data": {
      "text/plain": [
       "<function matplotlib.pyplot.show(close=None, block=None)>"
      ]
     },
     "execution_count": 84,
     "metadata": {},
     "output_type": "execute_result"
    },
    {
     "data": {
      "image/png": "[encoded data removed]",
      "text/plain": [
       "<Figure size 720x360 with 2 Axes>"
      ]
     },
     "metadata": {
      "needs_background": "light"
     },
     "output_type": "display_data"
    }
   ],
   "source": [
    "plt.figure(figsize=(10,5))\n",
    "plt.subplot(1,2,1)\n",
    "plt.xlabel('iteration')\n",
    "plt.ylabel('loss')\n",
    "plt.plot(range(len(train_loader)*10), bn_train_iteration_loss, range(len(val_loader)*10), bn_valid_iteration_loss)\n",
    "plt.subplot(1,2,2)\n",
    "plt.xlabel('epoch')\n",
    "plt.ylabel('loss')\n",
    "plt.plot(range(10), bn_train_epoch_loss, range(10), bn_valid_epoch_loss)\n",
    "plt.show"
   ]
  },
  {
   "cell_type": "code",
   "execution_count": 87,
   "metadata": {},
   "outputs": [
    {
     "data": {
      "text/plain": [
       "<function matplotlib.pyplot.show(close=None, block=None)>"
      ]
     },
     "execution_count": 87,
     "metadata": {},
     "output_type": "execute_result"
    },
    {
     "data": {
      "image/png": "[encoded data removed]",
      "text/plain": [
       "<Figure size 720x360 with 2 Axes>"
      ]
     },
     "metadata": {
      "needs_background": "light"
     },
     "output_type": "display_data"
    }
   ],
   "source": [
    "plt.figure(figsize=(10,5))\n",
    "plt.subplot(1,2,1)\n",
    "plt.xlabel('iteration')\n",
    "plt.ylabel('loss')\n",
    "plt.plot(range(10), base_train_epoch_loss, range(10), bn_train_epoch_loss)\n",
    "plt.subplot(1,2,2)\n",
    "plt.xlabel('epoch')\n",
    "plt.ylabel('loss')\n",
    "plt.plot(range(10), base_valid_epoch_loss, range(10), bn_valid_epoch_loss)\n",
    "plt.show"
   ]
  },
  {
   "cell_type": "code",
   "execution_count": null,
   "metadata": {},
   "outputs": [],
   "source": []
  }
 ],
 "metadata": {
  "interpreter": {
   "hash": "5777bc8a7577125a1c00ed1671130ea029cae56addc813f4c39a4f837e26f28b"
  },
  "kernelspec": {
   "display_name": "Python 3.9.6 64-bit ('main': conda)",
   "name": "python3"
  },
  "language_info": {
   "codemirror_mode": {
    "name": "ipython",
    "version": 3
   },
   "file_extension": ".py",
   "mimetype": "text/x-python",
   "name": "python",
   "nbconvert_exporter": "python",
   "pygments_lexer": "ipython3",
   "version": "3.9.6"
  },
  "orig_nbformat": 4
 },
 "nbformat": 4,
 "nbformat_minor": 2
}
